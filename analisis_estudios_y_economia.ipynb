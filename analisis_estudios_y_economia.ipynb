{
 "cells": [
  {
   "cell_type": "markdown",
   "metadata": {
    "id": "19mfTL-2Bc53"
   },
   "source": [
    "# **Educación y Nivel Socioeconómico**\n",
    "## Proyecto del módulo de Procesamiento de Datos con Python\n",
    "### Data Analysis (Santander) - BEDU\n",
    "## Equipo 19\n",
    "- Orlando Aguilar\n",
    "- Mario Encinas\n",
    "- Andrés Sánchez"
   ]
  },
  {
   "cell_type": "markdown",
   "metadata": {
    "id": "wfNZeSaqAwlF"
   },
   "source": [
    "# Introducción"
   ]
  },
  {
   "cell_type": "markdown",
   "metadata": {
    "id": "ev2HQwLRwtzd"
   },
   "source": [
    "Según datos del Banco Mundial, México es un país con un nivel socioeconómico medio-alto, y es una de las principales economías de Latinoamérica. Sin embargo, el pormcentaje de población que vive en pobreza es alarmantemente alto.\n",
    "\n",
    "De acuerdo con información proporcionada por el CONEVAL en 2018, el porcentaje de los mexicanos viviendo con ingresos inferiores a la línea de pobreza corresponde al 48.8% de la población.\n",
    "Es necesario aclarar que el CONEVAL mide la línea de pobreza por ingresos a partir de los ingresos mensuales totales por hogar y el número de habitantes en el hogar.\n",
    "\n",
    "La línea de pobreza utilizada por el CONEVAL en 2018 se localizaba alrededor de los 3,300 MXN mensuales para las zonas urbanas y alrededor de 2,300 MXN mensuales para las zonas rurales. De modo que un hogar con tres habitantes y un ingreso total de 15,000 MXN mensuales estaría por encima de la línea de pobreza, mientras que un hogar con cinco habitantes y un ingreso total de 15,000 MXN mensuales se encontraría en el umbral de pobreza en México. \n",
    "\n",
    "Un estudio realizado en 2009 por la CEPAL determinó que existe una correlación entre la población en situación de pobreza y un menor nivel de estudios. Se detectó que un individuo con bajo nivel educativo tiene más probabilidades de encontrarse en situación de pobreza. No obstante, el mismo estudio declara que no fue posible determinar si un mayor nivel de estudios permite a las personas salir de la pobreza.\n",
    "\n",
    "Tomando en cuenta la información presentada previamente se decidió realizar un análisis para determinar si existe una correlación directa entre el nivel educativo y el nivel de ingresos de un individuo, y de ser así, cómo es esta relación.\n",
    "\n",
    "Con el análisis propuesto se espera obtener información que proporcione una mejor comprensión del problema de la pobreza y la educación en México, pues es necesario conocerlo a fondo para poder desarrollar estrategias eficaces que permitan impulsar el desarrollo del país.\n",
    "\n",
    "### Preguntas de interés:\n",
    "\n",
    "- ¿existe una correlación entre el nivel educativo y el nivel de ingresos?\n",
    "- ¿La educación universitaria garantiza un mayor nivel socioeconómico?\n",
    "- ¿En qué medida afecta el nivel socioeconómico a las posibilidades de estudiar?\n",
    "- ¿Cuál es la relación entre el nivel socioeconómico de los individuos con un cierto grado de estudios respecto a otro?\n",
    "- ¿Hay una diferencia en los niveles de ingresos de los individuos con únicamente estudios de nivel primaria respecto a los de secundaría?\n",
    "- ¿El nivel de estudios de un país aumenta en la misma medida que disminuye la pobreza?\n"
   ]
  },
  {
   "cell_type": "markdown",
   "metadata": {
    "id": "lDSj4XXRoNWr"
   },
   "source": [
    "# Desarrollo"
   ]
  },
  {
   "cell_type": "code",
   "execution_count": null,
   "metadata": {
    "id": "BLFiLPIfn8pP"
   },
   "outputs": [],
   "source": [
    "!pip install world_bank_data --upgrade"
   ]
  },
  {
   "cell_type": "code",
   "execution_count": 49,
   "metadata": {
    "id": "kUQCsYfJExfI"
   },
   "outputs": [],
   "source": [
    "import csv\n",
    "import pandas as pd\n",
    "import numpy as np\n",
    "import world_bank_data as wb"
   ]
  },
  {
   "cell_type": "markdown",
   "metadata": {
    "id": "nQ9yh8c9oNpt"
   },
   "source": [
    "## **Recolección de Datos**\n"
   ]
  },
  {
   "cell_type": "markdown",
   "metadata": {
    "id": "T6CaEpvgcu02"
   },
   "source": [
    "Los datos utilizados en este trabajo fueron extraídos de 2 fuentes principales: El Banco Mundial, y los resultados de la Encuesta Nacional de Ingresos y Gastos de los Hogares (ENIGH) de 2018 del INEGI. Los archivos descargados se encuentran en el [repositorio del proyecto](https://github.com/andresbsa/BEDU_Python/blob/main/README.md).\n",
    "\n",
    "Se cargan 3 datasets diferentes de la ENIGH:\n"
   ]
  },
  {
   "cell_type": "code",
   "execution_count": null,
   "metadata": {
    "id": "IOoWJNpYoApw"
   },
   "outputs": [],
   "source": [
    "concentrado_hogar = pd.read_csv('https://raw.githubusercontent.com/andresbsa/BEDU_Python/main/conjunto_de_datos_concentradohogar_enigh_2018_ns.csv')\n",
    "datos_poblacion = pd.read_csv('https://raw.githubusercontent.com/andresbsa/BEDU_Python/main/conjunto_de_datos_poblacion_enigh_2018_ns.csv')\n",
    "datos_ingresos = pd.read_csv('https://raw.githubusercontent.com/andresbsa/BEDU_Python/main/conjunto_de_datos_ingresos_enigh_2018_ns.csv')"
   ]
  },
  {
   "cell_type": "markdown",
   "metadata": {
    "id": "K5kdLz19ewI1"
   },
   "source": [
    "- El DataFrame `concentrado_hogar` incluye información general de las viviendas mexicanas. Las columnas de interés son las relacionadas con el nivel socioeconómico, ingresos que recibidos y datos concentrados respecto a los habitantes.\n",
    "\n",
    "- El DataFrame `datos_población` incluye información sociodemográfica de las viviendas a nivel integrante.\n",
    "\n",
    "- El DataFrame `datos_ingresos` incluye los ingresos que recibió cada integrante de vivienda a lo largo de 6 meses.\n",
    "\n"
   ]
  },
  {
   "cell_type": "markdown",
   "metadata": {
    "id": "roRG4jNSnbj_"
   },
   "source": [
    "Se cargan los datos del Banco Mundial (la api no requiere token): "
   ]
  },
  {
   "cell_type": "code",
   "execution_count": 52,
   "metadata": {
    "id": "5Dc2JkaEfVVR"
   },
   "outputs": [],
   "source": [
    "#wb.get_countries(country='MEX')\n",
    "pobreza_nacional = wb.get_series('SI.POV.NAHC', id_or_value='id', country='mx')\n",
    "pobreza_monetaria_moderada = wb.get_series('SI.POV.UMIC', id_or_value='id', country='MEX')#<5.50 USD por día\n",
    "pobreza_monetaria_extrema = wb.get_series('SI.POV.DDAY', id_or_value='id', country='MEX') #<1.90 USD por día\n",
    "secundaria_respecto_primaria = wb.get_series('SE.SEC.PROG.ZS', id_or_value='id', country='MEX')\n",
    "primaria_respecto_rango_edad = wb.get_series('SE.PRM.ENRR', id_or_value='id', country='MEX')\n",
    "secundaria_respecto_rango_edad = wb.get_series('SE.SEC.ENRR', id_or_value='id', country='MEX')\n",
    "terciaria_respecto_rango_edad = wb.get_series('SE.TER.ENRR', id_or_value='id', country='MEX')"
   ]
  },
  {
   "cell_type": "markdown",
   "metadata": {
    "id": "K4GNuffAn5FL"
   },
   "source": [
    "- La Serie `pobreza_nacional` contiene los porcentajes de población en situación pobreza a lo largo de los años.\n",
    "- La Serie `pobreza_monetaria_moderada` contiene los porcentajes de población en situación de pobreza monetaria moderada a lo largo de los años; es decir, el porcentaje de personas en México que subsisten con menos de 5.50 USD al día.\n",
    "- La Serie `pobreza_monetaria_extrema` contiene los porcentajes de población en situación de pobreza monetaria extrema a lo largo de los años; es decir, el porcentaje de personas en México que subsisten con menos de 1.90 USD al día.\n",
    "- La Serie `secundaria_respecto_primaria` porcentaje de individuos que ingresan al nivel educativo secundario a lo largo de los años. Se obtiene a partir del numero de individuos que egresan del nivel primario respecto al numero que ingresa al nivel secundario en el año indicado. \n",
    "- La Serie `primaria_respecto_rango_edad` porcentaje de individuos que ingresan al nivel educativo primario a lo largo de los años. Se obtiene a partir del número de individuos que ingresan respecto al número de personas a nivel nacional en el rango de edad estimado para ingresar a dicho grado educativo.\n",
    "- La Serie `secundaria_respecto_rango_edad` porcentaje de individuos que ingresan al nivel educativo secundario a lo largo de los años. Se obtiene a partir del número de individuos que ingresan respecto al número de personas a nivel nacional en el rango de edad estimado para ingresar a dicho grado educativo.\n",
    "- La Serie `terciaria_respecto_rango_edad` porcentaje de individuos que ingresan al nivel educativo terciario a lo largo de los años. Se obtiene a partir del número de individuos que ingresan respecto al número de personas a nivel nacional en el rango de edad estimado para ingresar a dicho grado educativo.\n"
   ]
  },
  {
   "cell_type": "markdown",
   "metadata": {
    "id": "kYf99f0vfXEK"
   },
   "source": [
    "## **Limpieza de Datos**"
   ]
  },
  {
   "cell_type": "markdown",
   "metadata": {
    "id": "uVSUMvDAmiD7"
   },
   "source": [
    "### Indicadores del Banco Mundial\n"
   ]
  },
  {
   "cell_type": "markdown",
   "metadata": {
    "id": "5zZ1TBo75bFf"
   },
   "source": [
    "Los indicadores descargados del Banco Mundial se almacenan en series de tiempo correspondientes a distintos parámetros hacerca de Educación y Pobreza. Estos datos se convierten en Series de `pandas` con sus respectivos nombres y reestablecen sus índices sin soltar las columnas correspondientes. Posteriormente, se genera un solo DataFrame llamado `indicadores`.\n",
    "\n",
    "Con el DataFrame generado, se destina la columna que contiene los años como el índice. Dado que el rango de tiempo de todas las series es exactamente el mismo, se puede tomar la columna `Year` de cualquiera de las series.\n"
   ]
  },
  {
   "cell_type": "code",
   "execution_count": 53,
   "metadata": {
    "colab": {
     "base_uri": "https://localhost:8080/",
     "height": 470
    },
    "id": "fVEr-8xzl27J",
    "outputId": "030816db-aae7-4f1e-ce42-dc2e84db9188"
   },
   "outputs": [
    {
     "data": {
      "text/html": [
       "<div>\n",
       "<style scoped>\n",
       "    .dataframe tbody tr th:only-of-type {\n",
       "        vertical-align: middle;\n",
       "    }\n",
       "\n",
       "    .dataframe tbody tr th {\n",
       "        vertical-align: top;\n",
       "    }\n",
       "\n",
       "    .dataframe thead th {\n",
       "        text-align: right;\n",
       "    }\n",
       "</style>\n",
       "<table border=\"1\" class=\"dataframe\">\n",
       "  <thead>\n",
       "    <tr style=\"text-align: right;\">\n",
       "      <th></th>\n",
       "      <th>Pobreza_nacional</th>\n",
       "      <th>Pobreza_moderada</th>\n",
       "      <th>Pobreza_extrema</th>\n",
       "      <th>Primaria_respecto_rango_edad</th>\n",
       "      <th>Secundaria_respecto_rango_edad</th>\n",
       "      <th>Secundaria_respecto_primaria</th>\n",
       "      <th>terciaria_respecto_rango_edad</th>\n",
       "    </tr>\n",
       "    <tr>\n",
       "      <th>Año</th>\n",
       "      <th></th>\n",
       "      <th></th>\n",
       "      <th></th>\n",
       "      <th></th>\n",
       "      <th></th>\n",
       "      <th></th>\n",
       "      <th></th>\n",
       "    </tr>\n",
       "  </thead>\n",
       "  <tbody>\n",
       "    <tr>\n",
       "      <th>1960</th>\n",
       "      <td>NaN</td>\n",
       "      <td>NaN</td>\n",
       "      <td>NaN</td>\n",
       "      <td>NaN</td>\n",
       "      <td>NaN</td>\n",
       "      <td>NaN</td>\n",
       "      <td>NaN</td>\n",
       "    </tr>\n",
       "    <tr>\n",
       "      <th>1961</th>\n",
       "      <td>NaN</td>\n",
       "      <td>NaN</td>\n",
       "      <td>NaN</td>\n",
       "      <td>NaN</td>\n",
       "      <td>NaN</td>\n",
       "      <td>NaN</td>\n",
       "      <td>NaN</td>\n",
       "    </tr>\n",
       "    <tr>\n",
       "      <th>1962</th>\n",
       "      <td>NaN</td>\n",
       "      <td>NaN</td>\n",
       "      <td>NaN</td>\n",
       "      <td>NaN</td>\n",
       "      <td>NaN</td>\n",
       "      <td>NaN</td>\n",
       "      <td>NaN</td>\n",
       "    </tr>\n",
       "    <tr>\n",
       "      <th>1963</th>\n",
       "      <td>NaN</td>\n",
       "      <td>NaN</td>\n",
       "      <td>NaN</td>\n",
       "      <td>NaN</td>\n",
       "      <td>NaN</td>\n",
       "      <td>NaN</td>\n",
       "      <td>NaN</td>\n",
       "    </tr>\n",
       "    <tr>\n",
       "      <th>1964</th>\n",
       "      <td>NaN</td>\n",
       "      <td>NaN</td>\n",
       "      <td>NaN</td>\n",
       "      <td>NaN</td>\n",
       "      <td>NaN</td>\n",
       "      <td>NaN</td>\n",
       "      <td>NaN</td>\n",
       "    </tr>\n",
       "    <tr>\n",
       "      <th>...</th>\n",
       "      <td>...</td>\n",
       "      <td>...</td>\n",
       "      <td>...</td>\n",
       "      <td>...</td>\n",
       "      <td>...</td>\n",
       "      <td>...</td>\n",
       "      <td>...</td>\n",
       "    </tr>\n",
       "    <tr>\n",
       "      <th>2016</th>\n",
       "      <td>43.6</td>\n",
       "      <td>25.4</td>\n",
       "      <td>2.2</td>\n",
       "      <td>106.277733</td>\n",
       "      <td>102.404060</td>\n",
       "      <td>96.57231</td>\n",
       "      <td>38.433380</td>\n",
       "    </tr>\n",
       "    <tr>\n",
       "      <th>2017</th>\n",
       "      <td>NaN</td>\n",
       "      <td>NaN</td>\n",
       "      <td>NaN</td>\n",
       "      <td>105.770012</td>\n",
       "      <td>104.385033</td>\n",
       "      <td>NaN</td>\n",
       "      <td>40.228958</td>\n",
       "    </tr>\n",
       "    <tr>\n",
       "      <th>2018</th>\n",
       "      <td>41.9</td>\n",
       "      <td>22.7</td>\n",
       "      <td>1.7</td>\n",
       "      <td>105.028069</td>\n",
       "      <td>105.103363</td>\n",
       "      <td>NaN</td>\n",
       "      <td>41.522800</td>\n",
       "    </tr>\n",
       "    <tr>\n",
       "      <th>2019</th>\n",
       "      <td>NaN</td>\n",
       "      <td>NaN</td>\n",
       "      <td>NaN</td>\n",
       "      <td>NaN</td>\n",
       "      <td>NaN</td>\n",
       "      <td>NaN</td>\n",
       "      <td>NaN</td>\n",
       "    </tr>\n",
       "    <tr>\n",
       "      <th>2020</th>\n",
       "      <td>NaN</td>\n",
       "      <td>NaN</td>\n",
       "      <td>NaN</td>\n",
       "      <td>NaN</td>\n",
       "      <td>NaN</td>\n",
       "      <td>NaN</td>\n",
       "      <td>NaN</td>\n",
       "    </tr>\n",
       "  </tbody>\n",
       "</table>\n",
       "<p>61 rows × 7 columns</p>\n",
       "</div>"
      ],
      "text/plain": [
       "      Pobreza_nacional  ...  terciaria_respecto_rango_edad\n",
       "Año                     ...                               \n",
       "1960               NaN  ...                            NaN\n",
       "1961               NaN  ...                            NaN\n",
       "1962               NaN  ...                            NaN\n",
       "1963               NaN  ...                            NaN\n",
       "1964               NaN  ...                            NaN\n",
       "...                ...  ...                            ...\n",
       "2016              43.6  ...                      38.433380\n",
       "2017               NaN  ...                      40.228958\n",
       "2018              41.9  ...                      41.522800\n",
       "2019               NaN  ...                            NaN\n",
       "2020               NaN  ...                            NaN\n",
       "\n",
       "[61 rows x 7 columns]"
      ]
     },
     "execution_count": 53,
     "metadata": {
      "tags": []
     },
     "output_type": "execute_result"
    }
   ],
   "source": [
    "anios = pd.Series(pobreza_nacional.reset_index()['Year'])\n",
    "pobreza_nacional = pd.Series(pobreza_nacional.reset_index()['SI.POV.NAHC'])\n",
    "pobreza_moderada = pd.Series(pobreza_monetaria_moderada.reset_index()['SI.POV.UMIC'])\n",
    "pobreza_extrema = pd.Series(pobreza_monetaria_extrema.reset_index()['SI.POV.DDAY'])\n",
    "secundaria_respecto_primaria = pd.Series(secundaria_respecto_primaria.reset_index()['SE.SEC.PROG.ZS'])\n",
    "primaria_respecto_rango_edad = pd.Series(primaria_respecto_rango_edad.reset_index()['SE.PRM.ENRR'])\n",
    "secundaria_respecto_rango_edad = pd.Series(secundaria_respecto_rango_edad.reset_index()['SE.SEC.ENRR'])\n",
    "terciaria_respecto_rango_edad = pd.Series(terciaria_respecto_rango_edad.reset_index()['SE.TER.ENRR'])\n",
    "\n",
    "indicadores = pd.DataFrame({'Año': anios, 'Pobreza_nacional': pobreza_nacional, 'Pobreza_moderada': pobreza_moderada,\n",
    "                                     'Pobreza_extrema': pobreza_extrema, 'Primaria_respecto_rango_edad': primaria_respecto_rango_edad,\n",
    "                                     'Secundaria_respecto_rango_edad': secundaria_respecto_rango_edad,\n",
    "                                     'Secundaria_respecto_primaria': secundaria_respecto_primaria,\n",
    "                                     'terciaria_respecto_rango_edad': terciaria_respecto_rango_edad})\n",
    "\n",
    "indicadores = indicadores.set_index('Año', drop=True)\n",
    "indicadores"
   ]
  },
  {
   "cell_type": "markdown",
   "metadata": {
    "id": "G4OOetC38hzE"
   },
   "source": [
    "Una vez con el DataFrame generado, se eliminan todos los registros cuyos valores corresponden exclusivamente a NaNs.\n",
    "\n",
    "Posteriormente comprobamos cuantos registros NaN contiene cada columna."
   ]
  },
  {
   "cell_type": "code",
   "execution_count": 54,
   "metadata": {
    "colab": {
     "base_uri": "https://localhost:8080/"
    },
    "id": "iYXWSvQTfZiU",
    "outputId": "e4326fe3-78e1-432c-c272-77b61d0acdd0"
   },
   "outputs": [
    {
     "data": {
      "text/plain": [
       "Pobreza_nacional                  40\n",
       "Pobreza_moderada                  30\n",
       "Pobreza_extrema                   30\n",
       "Primaria_respecto_rango_edad       0\n",
       "Secundaria_respecto_rango_edad     0\n",
       "Secundaria_respecto_primaria      10\n",
       "terciaria_respecto_rango_edad      0\n",
       "dtype: int64"
      ]
     },
     "execution_count": 54,
     "metadata": {
      "tags": []
     },
     "output_type": "execute_result"
    }
   ],
   "source": [
    "indicadores = indicadores.dropna(axis=0, how='all')\n",
    "indicadores = indicadores.dropna(axis = 0, subset=['terciaria_respecto_rango_edad'])\n",
    "indicadores.isna().sum(axis=0)"
   ]
  },
  {
   "cell_type": "markdown",
   "metadata": {
    "id": "jTbRl0Gc-tvx"
   },
   "source": [
    "Los valores nulos en las columnas `Pobreza_moderada` y `Pobreza_extrema` coinciden en registros, por lo que se procede a crear un DataFrame eliminando los registros con valores NaN en las columnas mencionadas.\n",
    "Debido a la escasa cantidad de registros restantes se eliminan las columnas `Pobreza_nacional` y `Secundaria_respecto_primaria` pues estas siguen conteniendo valores NaN.\n"
   ]
  },
  {
   "cell_type": "code",
   "execution_count": 55,
   "metadata": {
    "colab": {
     "base_uri": "https://localhost:8080/"
    },
    "id": "v5W6tcnCmP74",
    "outputId": "a42b59c4-5018-4b45-a6a2-335d49e8ae9d"
   },
   "outputs": [
    {
     "name": "stdout",
     "output_type": "stream",
     "text": [
      "Pobreza_moderada                  0\n",
      "Pobreza_extrema                   0\n",
      "Primaria_respecto_rango_edad      0\n",
      "Secundaria_respecto_rango_edad    0\n",
      "terciaria_respecto_rango_edad     0\n",
      "dtype: int64\n",
      "15\n"
     ]
    }
   ],
   "source": [
    "indicadores_pobreza_y_educacion = indicadores.dropna(axis = 0, subset=['Pobreza_moderada', 'Pobreza_extrema'], how='all')\n",
    "indicadores_pobreza_y_educacion = indicadores_pobreza_y_educacion.drop(columns=['Secundaria_respecto_primaria', 'Pobreza_nacional'])\n",
    "print(indicadores_pobreza_y_educacion.isna().sum(axis=0))\n",
    "print(len(indicadores_pobreza_y_educacion))"
   ]
  },
  {
   "cell_type": "markdown",
   "metadata": {
    "id": "J8b6d-wPrWXQ"
   },
   "source": [
    "Para no perder tanta información acerca de los indicadores de educación se crea un segundo DataFrame que almacena únicamente las columnas correspondientes a los indicadores de educación y se elimina cualquier registro con un valor NaN."
   ]
  },
  {
   "cell_type": "code",
   "execution_count": 56,
   "metadata": {
    "colab": {
     "base_uri": "https://localhost:8080/"
    },
    "id": "rgvWhcBxqo1X",
    "outputId": "3af2f7f0-0a22-4171-939e-fde9a2190a4e"
   },
   "outputs": [
    {
     "name": "stdout",
     "output_type": "stream",
     "text": [
      "Primaria_respecto_rango_edad      0\n",
      "Secundaria_respecto_rango_edad    0\n",
      "Secundaria_respecto_primaria      0\n",
      "terciaria_respecto_rango_edad     0\n",
      "dtype: int64\n",
      "35\n"
     ]
    }
   ],
   "source": [
    "indicadores_educacion = indicadores.dropna(axis = 0, subset=['Secundaria_respecto_primaria'], how='any')\n",
    "indicadores_educacion = indicadores_educacion.drop(columns=['Pobreza_nacional', 'Pobreza_moderada', 'Pobreza_extrema'])\n",
    "print(indicadores_educacion.isna().sum(axis=0))\n",
    "print(len(indicadores_educacion))"
   ]
  },
  {
   "cell_type": "markdown",
   "metadata": {
    "id": "jChyPnVFA-p0"
   },
   "source": [
    "Se espera que con los DataFrames obtenidos a partir de los datos del Banco Mundial se obtenga información que permita tener una mejor comprensión del efecto de la pobreza económica sobre el acceso a la educación."
   ]
  },
  {
   "cell_type": "markdown",
   "metadata": {
    "id": "Zeks0TMLotnD"
   },
   "source": [
    "### Concentrado Hogar\n",
    "Del DataFrame `concentrado_hogar` sobre las viviendas mexicanas y su nivel socioeconómico, aislamos las columnas relevantes para los objetivos de la investigación. \n",
    "\n",
    "Primero guardamos todos los nombres de las columnas en `columnas_concentrado` y definimos una lista con los índices de las columnas de interés en `numero_columnas`. Con este mapeo, se filtran las columnas del DataFrame original en uno nuevo llamado `concentrado`. Asimismo, se guardan nuevos nombres para las columnas del DataFrame en la lista `nombres_columnas` y se reemplazan en el DataFrame filtrado. \n",
    "\n",
    "Por último, se observan el tipo de datos en el DataFrame filtrado y se identifican cuantos NaNs contiene."
   ]
  },
  {
   "cell_type": "code",
   "execution_count": 57,
   "metadata": {
    "colab": {
     "base_uri": "https://localhost:8080/"
    },
    "id": "Nv-l96SDoca9",
    "outputId": "afd69be2-294d-4618-cced-581b183eb8e7"
   },
   "outputs": [
    {
     "name": "stdout",
     "output_type": "stream",
     "text": [
      "folio_vivienda            int64\n",
      "numero_hogar              int64\n",
      "ubicacion_geografica      int64\n",
      "tamanio_localidad         int64\n",
      "nivel_socioeconomico      int64\n",
      "estrato_dis               int64\n",
      "upm                       int64\n",
      "factor                    int64\n",
      "clase_hogar               int64\n",
      "total_integrantes         int64\n",
      "mayores_11                int64\n",
      "menores_12                int64\n",
      "edad_11_a_64              int64\n",
      "mayores 65                int64\n",
      "ocupados                  int64\n",
      "perciben_ingresos         int64\n",
      "ingresos_coordinados    float64\n",
      "dtype: object\n",
      "folio_vivienda          0\n",
      "numero_hogar            0\n",
      "ubicacion_geografica    0\n",
      "tamanio_localidad       0\n",
      "nivel_socioeconomico    0\n",
      "estrato_dis             0\n",
      "upm                     0\n",
      "factor                  0\n",
      "clase_hogar             0\n",
      "total_integrantes       0\n",
      "mayores_11              0\n",
      "menores_12              0\n",
      "edad_11_a_64            0\n",
      "mayores 65              0\n",
      "ocupados                0\n",
      "perciben_ingresos       0\n",
      "ingresos_coordinados    0\n",
      "dtype: int64\n"
     ]
    }
   ],
   "source": [
    "columnas_concentrado = concentrado_hogar.columns\n",
    "numero_columnas = [0,1,2,3,4,5,6,7,8,12,15,16,17,18,19,20,22]\n",
    "concentrado = concentrado_hogar[columnas_concentrado[numero_columnas]]\n",
    "\n",
    "nombres_columnas = ['folio_vivienda', 'numero_hogar', 'ubicacion_geografica', 'tamanio_localidad', 'nivel_socioeconomico', \n",
    "                    'estrato_dis', 'upm', 'factor', 'clase_hogar', 'total_integrantes', 'mayores_11', 'menores_12',\n",
    "                    'edad_11_a_64', 'mayores 65', 'ocupados', 'perciben_ingresos', 'ingresos_coordinados']\n",
    "concentrado.columns = nombres_columnas\n",
    "\n",
    "print(concentrado.dtypes)\n",
    "print(concentrado.isna().sum(axis=0))"
   ]
  },
  {
   "cell_type": "markdown",
   "metadata": {
    "id": "BitbDZvqmr1u"
   },
   "source": [
    "### Población\n",
    "El mismo proceso de filtrado y renombramiento se sigue con el DataFrame `datos_poblacion` sobre la sociodemografía de las viviendas por cada integrante: se filtran las columnas revelantes con la lista `numero_columnas` y se renombran con `nombres_columnas`\n",
    "\n",
    "Después se observan el tipo de datos del DataFrame filtrado y se identifican cuántos NaNs contiene."
   ]
  },
  {
   "cell_type": "code",
   "execution_count": 58,
   "metadata": {
    "colab": {
     "base_uri": "https://localhost:8080/"
    },
    "id": "7NlWYfoest_F",
    "outputId": "3e0a2e79-f513-401f-dad7-9d3becc226e8"
   },
   "outputs": [
    {
     "name": "stdout",
     "output_type": "stream",
     "text": [
      "folio_vivienda                  int64\n",
      "numero_habitante                int64\n",
      "parentesco                      int64\n",
      "sexo                            int64\n",
      "edad                            int64\n",
      "discapacidad                   object\n",
      "pertenece_etnia                object\n",
      "alfabetismo                    object\n",
      "asiste_a_escuela               object\n",
      "grado_estudios                 object\n",
      "tipo_escuela                   object\n",
      "tiene_beca                     object\n",
      "tipo_beca                      object\n",
      "tiene_ayuda                    object\n",
      "tipo_ayuda                     object\n",
      "grado_maximo_estudios          object\n",
      "antecedentes_estudios          object\n",
      "aporta_seguridad_social(ss)    object\n",
      "anios_contribucion_ss          object\n",
      "meses_contribucion_ss          object\n",
      "apoyo_conseguir_trabajo        object\n",
      "apoyo_prestamo_mes_gastos      object\n",
      "horas_trabajo                  object\n",
      "no_recuerda_trabajar           object\n",
      "horas_estudio                  object\n",
      "no_recuerda_estudiar           object\n",
      "dtype: object\n",
      "folio_vivienda                 0\n",
      "numero_habitante               0\n",
      "parentesco                     0\n",
      "sexo                           0\n",
      "edad                           0\n",
      "discapacidad                   0\n",
      "pertenece_etnia                0\n",
      "alfabetismo                    0\n",
      "asiste_a_escuela               0\n",
      "grado_estudios                 0\n",
      "tipo_escuela                   0\n",
      "tiene_beca                     0\n",
      "tipo_beca                      0\n",
      "tiene_ayuda                    0\n",
      "tipo_ayuda                     0\n",
      "grado_maximo_estudios          0\n",
      "antecedentes_estudios          0\n",
      "aporta_seguridad_social(ss)    0\n",
      "anios_contribucion_ss          0\n",
      "meses_contribucion_ss          0\n",
      "apoyo_conseguir_trabajo        0\n",
      "apoyo_prestamo_mes_gastos      0\n",
      "horas_trabajo                  0\n",
      "no_recuerda_trabajar           0\n",
      "horas_estudio                  0\n",
      "no_recuerda_estudiar           0\n",
      "dtype: int64\n"
     ]
    }
   ],
   "source": [
    "columnas_poblacion = datos_poblacion.columns\n",
    "numero_columnas = [0,2,3,4,5,10,28,29,30,31,33,34,36,37,39,40,42,47,48,49,50,52,56,58,59,61]\n",
    "poblacion = datos_poblacion[columnas_poblacion[numero_columnas]]\n",
    "\n",
    "nombres_columnas = ['folio_vivienda', 'numero_habitante', 'parentesco', 'sexo', 'edad', 'discapacidad',\n",
    "                    'pertenece_etnia', 'alfabetismo', 'asiste_a_escuela', 'grado_estudios', 'tipo_escuela', 'tiene_beca', 'tipo_beca',\n",
    "                    'tiene_ayuda', 'tipo_ayuda', 'grado_maximo_estudios', 'antecedentes_estudios', 'aporta_seguridad_social(ss)',\n",
    "                    'anios_contribucion_ss', 'meses_contribucion_ss', 'apoyo_conseguir_trabajo', 'apoyo_prestamo_mes_gastos',\n",
    "                    'horas_trabajo', 'no_recuerda_trabajar', 'horas_estudio', 'no_recuerda_estudiar']\n",
    "\n",
    "poblacion.columns = nombres_columnas\n",
    "\n",
    "print(poblacion.dtypes)\n",
    "print(poblacion.isna().sum(axis=0))"
   ]
  },
  {
   "cell_type": "markdown",
   "metadata": {
    "id": "plMDdqXFmyel"
   },
   "source": [
    "### Ingresos\n"
   ]
  },
  {
   "cell_type": "markdown",
   "metadata": {
    "id": "PhdPTsPPLGbv"
   },
   "source": [
    "Con el DataFrame `datos_ingresos` se siguió el mismo procedimiento que con los dos DataFrames anteriores para recuperar solo las columnas relevantes y renombrarlas.\n",
    "\n",
    "El DataFrame filtrado se guarda como `ingresos`."
   ]
  },
  {
   "cell_type": "code",
   "execution_count": 59,
   "metadata": {
    "colab": {
     "base_uri": "https://localhost:8080/"
    },
    "id": "7ZgJDgkHeG15",
    "outputId": "dd84ee8b-e153-48aa-80c8-6b5984a65106"
   },
   "outputs": [
    {
     "name": "stdout",
     "output_type": "stream",
     "text": [
      "folio_vivienda          int64\n",
      "numero_hogar            int64\n",
      "numero_habitante        int64\n",
      "clave_fuente           object\n",
      "ingreso_1               int64\n",
      "ingreso_2              object\n",
      "ingreso_3              object\n",
      "ingreso_4              object\n",
      "ingreso_5              object\n",
      "ingreso_6              object\n",
      "ingreso_trimestral    float64\n",
      "dtype: object\n",
      "folio_vivienda        0\n",
      "numero_hogar          0\n",
      "numero_habitante      0\n",
      "clave_fuente          0\n",
      "ingreso_1             0\n",
      "ingreso_2             0\n",
      "ingreso_3             0\n",
      "ingreso_4             0\n",
      "ingreso_5             0\n",
      "ingreso_6             0\n",
      "ingreso_trimestral    0\n",
      "dtype: int64\n"
     ]
    }
   ],
   "source": [
    "columnas_ingresos=datos_ingresos.columns\n",
    "numero_columnas_ingresos = [0,1,2,3,10,11,12,13,14,15,16]\n",
    "ingresos=datos_ingresos[columnas_ingresos[numero_columnas_ingresos]]\n",
    "nombres_columnas_ingresos= ['folio_vivienda','numero_hogar','numero_habitante','clave_fuente',\n",
    "                            'ingreso_1','ingreso_2','ingreso_3','ingreso_4','ingreso_5','ingreso_6', 'ingreso_trimestral']\n",
    "ingresos.columns=nombres_columnas_ingresos\n",
    "\n",
    "print(ingresos.dtypes)\n",
    "print(ingresos.isna().sum(axis=0))\n"
   ]
  },
  {
   "cell_type": "markdown",
   "metadata": {
    "id": "82op3_1xt1DZ"
   },
   "source": [
    "## **Transformación de Datos**"
   ]
  },
  {
   "cell_type": "markdown",
   "metadata": {
    "id": "T4rXa-vuupPL"
   },
   "source": [
    "### Concentrado Hogar"
   ]
  },
  {
   "cell_type": "markdown",
   "metadata": {
    "id": "phtNA5Wmumy9"
   },
   "source": [
    "El DataFrame `concentrado` no requiere de transformación de datos, pues todas las columnas ya se encuentran definidas en un tipo de datos apropiado y el DataFrame carece completamente de datos NaN."
   ]
  },
  {
   "cell_type": "markdown",
   "metadata": {
    "id": "m5Z-fBDfunzK"
   },
   "source": [
    "### Población"
   ]
  },
  {
   "cell_type": "markdown",
   "metadata": {
    "id": "Ft853nQvEEQ3"
   },
   "source": [
    "Antes de realizar castings, imprimimos los sets de valores por columna, para conocer un poco sobre los posibles valores que toman nuestras columnas:"
   ]
  },
  {
   "cell_type": "code",
   "execution_count": 60,
   "metadata": {
    "colab": {
     "base_uri": "https://localhost:8080/"
    },
    "id": "qS_GiIWWo7_M",
    "outputId": "6a187ebf-a036-43af-f1c3-5ea5bc63f084"
   },
   "outputs": [
    {
     "name": "stdout",
     "output_type": "stream",
     "text": [
      "discapacidad {1, '2', 2, 3, '5', 6, '&', '4', '3', 8, 4, 7, 5, '1', '6', '8', '7'}\n",
      "pertenece_etnia {'2', '1', ' '}\n",
      "alfabetismo {'2', '1', ' '}\n",
      "asiste_a_escuela {'2', '1', ' '}\n",
      "grado_estudios {'9', ' ', '4', '1', '12', '10', '13', '6', '11', '8', '7'}\n",
      "tipo_escuela {'3', '2', '1', ' '}\n",
      "tiene_beca {'2', '1', ' '}\n",
      "tipo_beca {'2', '5', ' ', '3', '1', '4'}\n",
      "tiene_ayuda {'2', '1', ' '}\n",
      "tipo_ayuda {'3', '2', '1', ' '}\n",
      "grado_maximo_estudios {'2', '5', '9', '3', ' ', '1', '6', '8', '4', '7', '0'}\n",
      "antecedentes_estudios {'2', '5', '3', ' ', '1', '4'}\n",
      "aporta_seguridad_social(ss) {'2', '1', ' '}\n",
      "anios_contribucion_ss {'21', '5', '22', '19', '34', '3', '42', '25', '47', '61', '30', '38', '35', '11', '7', '49', '54', '48', '2', '36', '26', '9', ' ', '29', '10', '12', '44', '20', '28', '51', '55', '4', '45', '50', '16', '41', '23', '24', '6', '46', '14', '-1', '52', '62', '32', '31', '58', '40', '37', '17', '60', '53', '15', '1', '13', '43', '56', '27', '33', '39', '18', '65', '8', '0'}\n",
      "meses_contribucion_ss {'2', '5', '9', ' ', '3', '4', '1', '10', '6', '11', '8', '7', '-1', '0'}\n",
      "apoyo_conseguir_trabajo {'2', '5', '3', ' ', '1', '4'}\n",
      "apoyo_prestamo_mes_gastos {'2', '5', '3', ' ', '1', '4'}\n",
      "horas_trabajo {'21', '22', '19', '34', '42', '35', '38', '75', '164', '118', '49', '36', '84', '108', '9', ' ', '89', '12', '133', '123', '93', '160', '45', '50', '111', '102', '58', '76', '106', '37', '60', '56', '39', '33', '77', '113', '17', '116', '109', '25', '61', '94', '122', '107', '7', '92', '10', '44', '86', '28', '69', '4', '41', '16', '14', '129', '78', '97', '117', '15', '144', '96', '150', '27', '18', '67', '5', '73', '99', '59', '30', '54', '83', '26', '2', '82', '81', '114', '105', '100', '90', '71', '20', '136', '68', '63', '51', '79', '95', '70', '87', '23', '6', '74', '52', '72', '32', '62', '120', '98', '138', '53', '1', '140', '66', '103', '3', '47', '80', '88', '11', '48', '29', '110', '112', '168', '91', '55', '24', '46', '147', '126', '119', '31', '40', '85', '57', '13', '43', '65', '64', '8', '0'}\n",
      "no_recuerda_trabajar {'8', '9', ' '}\n",
      "horas_estudio {'21', '22', '19', '34', '42', '35', '38', '75', '49', '36', '84', '9', ' ', '89', '12', '123', '93', '45', '50', '58', '76', '37', '60', '56', '33', '39', '77', '17', '109', '25', '61', '7', '92', '142', '10', '44', '86', '28', '69', '4', '41', '16', '14', '78', '97', '15', '150', '27', '18', '67', '5', '73', '99', '59', '30', '54', '83', '26', '2', '82', '81', '100', '90', '71', '115', '20', '68', '63', '51', '79', '95', '70', '87', '23', '6', '74', '52', '72', '32', '62', '98', '53', '1', '66', '3', '47', '80', '88', '11', '48', '29', '112', '91', '55', '24', '46', '31', '40', '85', '57', '13', '43', '65', '64', '8', '0'}\n",
      "no_recuerda_estudiar {'8', '9', ' '}\n"
     ]
    }
   ],
   "source": [
    "for columna in nombres_columnas[5:]:\n",
    "  print(columna, set(poblacion[columna]))"
   ]
  },
  {
   "cell_type": "markdown",
   "metadata": {
    "id": "nlY4oRXBEEkE"
   },
   "source": [
    "En este DataFrame, la mayoría de los tipos de datos se pueden analizar con mayor facilidad en la forma de valores numéricos. Por ello, se modifica el tipo de dato con la función de pandas `to_numeric`. \n",
    "\n",
    "Con el parámetro 'errors' se sustituyen los valores que no se pueden convertir por NaNs. Debido a que los valores que no son números se reemplazan con NaNs, se vuelven a identificar cuántos de estos datos hay en el DataFrame."
   ]
  },
  {
   "cell_type": "code",
   "execution_count": 61,
   "metadata": {
    "colab": {
     "base_uri": "https://localhost:8080/"
    },
    "id": "_ESOG3IRpug_",
    "outputId": "cdf397aa-9654-49cf-9756-9d151b7967d0"
   },
   "outputs": [
    {
     "name": "stderr",
     "output_type": "stream",
     "text": [
      "/usr/local/lib/python3.7/dist-packages/ipykernel_launcher.py:2: SettingWithCopyWarning: \n",
      "A value is trying to be set on a copy of a slice from a DataFrame.\n",
      "Try using .loc[row_indexer,col_indexer] = value instead\n",
      "\n",
      "See the caveats in the documentation: https://pandas.pydata.org/pandas-docs/stable/user_guide/indexing.html#returning-a-view-versus-a-copy\n",
      "  \n"
     ]
    },
    {
     "name": "stdout",
     "output_type": "stream",
     "text": [
      "folio_vivienda                   int64\n",
      "numero_habitante                 int64\n",
      "parentesco                       int64\n",
      "sexo                             int64\n",
      "edad                             int64\n",
      "discapacidad                   float64\n",
      "pertenece_etnia                float64\n",
      "alfabetismo                    float64\n",
      "asiste_a_escuela               float64\n",
      "grado_estudios                 float64\n",
      "tipo_escuela                   float64\n",
      "tiene_beca                     float64\n",
      "tipo_beca                      float64\n",
      "tiene_ayuda                    float64\n",
      "tipo_ayuda                     float64\n",
      "grado_maximo_estudios          float64\n",
      "antecedentes_estudios          float64\n",
      "aporta_seguridad_social(ss)    float64\n",
      "anios_contribucion_ss          float64\n",
      "meses_contribucion_ss          float64\n",
      "apoyo_conseguir_trabajo        float64\n",
      "apoyo_prestamo_mes_gastos      float64\n",
      "horas_trabajo                  float64\n",
      "no_recuerda_trabajar           float64\n",
      "horas_estudio                  float64\n",
      "no_recuerda_estudiar           float64\n",
      "dtype: object\n",
      "folio_vivienda                      0\n",
      "numero_habitante                    0\n",
      "parentesco                          0\n",
      "sexo                                0\n",
      "edad                                0\n",
      "discapacidad                      496\n",
      "pertenece_etnia                 12381\n",
      "alfabetismo                     12381\n",
      "asiste_a_escuela                12381\n",
      "grado_estudios                 191008\n",
      "tipo_escuela                   191008\n",
      "tiene_beca                     191008\n",
      "tipo_beca                      251884\n",
      "tiene_ayuda                    246672\n",
      "tipo_ayuda                     269060\n",
      "grado_maximo_estudios           12382\n",
      "antecedentes_estudios          232996\n",
      "aporta_seguridad_social(ss)     56947\n",
      "anios_contribucion_ss          182845\n",
      "meses_contribucion_ss          182845\n",
      "apoyo_conseguir_trabajo         87388\n",
      "apoyo_prestamo_mes_gastos       87388\n",
      "horas_trabajo                  163214\n",
      "no_recuerda_trabajar           193380\n",
      "horas_estudio                  232433\n",
      "no_recuerda_estudiar           124161\n",
      "dtype: int64\n"
     ]
    }
   ],
   "source": [
    "for columna in nombres_columnas[5:]:\n",
    "  poblacion[columna] = pd.to_numeric(poblacion[columna], errors='coerce')\n",
    "\n",
    "print(poblacion.dtypes)\n",
    "print(poblacion.isna().sum(axis=0))"
   ]
  },
  {
   "cell_type": "markdown",
   "metadata": {
    "id": "osdruGoqRKDS"
   },
   "source": [
    "Posteriormente, con los datos en forma númerica, se procede a filtrarlos con base en algunas de las columnas. \n",
    "\n",
    "Primero, se filtran los registros de acuerdo a la edad de los individuos, descartando aquellas personas con 12 años o menos. Esta delimitación se hace para remover a las personas que en su mayoría no tienen porqué tener un ingreso. De esta forma, los datos se limitan al nivel educativo de aquellas personas que requieren de un ingreso.\n",
    "\n",
    "Posteriormente se eliminan los registros que posean valores NaN en la columna `discapacidad` debido a que no es posible identificar el estado de salud de dichos individuos, y los registros correspondientes a individuos con un estado de salud incierto no permiten la extracción de información concluyente.\n",
    "\n",
    "Para el parámetro `aporta_seguridad_social` se reemplazan los NaNs por el valor `2`, pues este numero indica en esta columna que el individuo no aporta a seguridad social. Es posible asignar el valor `2` a los registros NaN en esta columna pues se infiere que, si un individuo no aplica para aportar a seguridad social, no estará aportando. \n",
    "\n",
    "Para el resto del DataFrame, los registros con valores NaN se reemplazan con `0`, pues la naturaleza de dichas columnas permite la asignacion de el valor `0` sin perder significacia en los valores de los registros.\n",
    "\n",
    "Una vez filtrado los registros y manejados los NaNs se reestablece el índice para que tenga continuidad y se vuelve a revisar si alguna columna contiene valores NaNs aún."
   ]
  },
  {
   "cell_type": "code",
   "execution_count": 62,
   "metadata": {
    "colab": {
     "base_uri": "https://localhost:8080/"
    },
    "id": "11_sjbopZN8F",
    "outputId": "fe7ecf30-18d6-4c82-9b85-978664561855"
   },
   "outputs": [
    {
     "data": {
      "text/plain": [
       "folio_vivienda                 0\n",
       "numero_habitante               0\n",
       "parentesco                     0\n",
       "sexo                           0\n",
       "edad                           0\n",
       "discapacidad                   0\n",
       "pertenece_etnia                0\n",
       "alfabetismo                    0\n",
       "asiste_a_escuela               0\n",
       "grado_estudios                 0\n",
       "tipo_escuela                   0\n",
       "tiene_beca                     0\n",
       "tipo_beca                      0\n",
       "tiene_ayuda                    0\n",
       "tipo_ayuda                     0\n",
       "grado_maximo_estudios          0\n",
       "antecedentes_estudios          0\n",
       "aporta_seguridad_social(ss)    0\n",
       "anios_contribucion_ss          0\n",
       "meses_contribucion_ss          0\n",
       "apoyo_conseguir_trabajo        0\n",
       "apoyo_prestamo_mes_gastos      0\n",
       "horas_trabajo                  0\n",
       "no_recuerda_trabajar           0\n",
       "horas_estudio                  0\n",
       "no_recuerda_estudiar           0\n",
       "dtype: int64"
      ]
     },
     "execution_count": 62,
     "metadata": {
      "tags": []
     },
     "output_type": "execute_result"
    }
   ],
   "source": [
    "poblacion = poblacion.loc[poblacion['edad'] > 12]\n",
    "#poblacion.isna().sum(axis=0)\n",
    "\n",
    "#poblacion.loc[poblacion['discapacidad'].isna()]['edad'].describe()\n",
    "poblacion = poblacion.dropna(axis = 0, subset=['discapacidad'])\n",
    "#poblacion.isna().sum(axis=0)\n",
    "\n",
    "#poblacion.loc[poblacion['aporta_seguridad_social(ss)'].isna()]['edad'].describe()\n",
    "poblacion['aporta_seguridad_social(ss)'] = poblacion['aporta_seguridad_social(ss)'].fillna(2)\n",
    "#poblacion.isna().sum(axis=0)\n",
    "\n",
    "#poblacion.loc[poblacion['apoyo_conseguir_trabajo'].isna()]['edad'].describe()\n",
    "#set(poblacion.loc[poblacion['apoyo_conseguir_trabajo'].isna()]['discapacidad'])\n",
    "#set(poblacion.loc[poblacion['apoyo_conseguir_trabajo'].isna()]['apoyo_prestamo_mes_gastos'])\n",
    "poblacion = poblacion.fillna(0)\n",
    "\n",
    "poblacion = poblacion.reset_index(drop=True)\n",
    "poblacion.isna().sum(axis=0)"
   ]
  },
  {
   "cell_type": "markdown",
   "metadata": {
    "id": "ZKhW81ZrHjrE"
   },
   "source": [
    "En este punto, con los DataFrames `concentrado` y `poblacion` procesados se realiza un `merge` para manejar los datos relevantes en una misma tabla y facilitar el acceso a la información. \n",
    "\n",
    "El `merge` se hace sobre el DataFrame `poblacion`, introduciendo las variables sobre el tipo de localidad en el que la familia vive y su nivel socioeconómico. La unión se hace sobre el `folio_vivienda`, pues cada familia tiene su propio folio único. "
   ]
  },
  {
   "cell_type": "code",
   "execution_count": 63,
   "metadata": {
    "id": "-CI-9PlJvVZO"
   },
   "outputs": [],
   "source": [
    "poblacion = poblacion.merge(concentrado[['tamanio_localidad', 'nivel_socioeconomico', 'folio_vivienda']], how='left', on='folio_vivienda')"
   ]
  },
  {
   "cell_type": "markdown",
   "metadata": {
    "id": "6pHRQzPG2hli"
   },
   "source": [
    "### Ingresos"
   ]
  },
  {
   "cell_type": "markdown",
   "metadata": {
    "id": "W3ecZqeu3Ti3"
   },
   "source": [
    "Convertimos a valor numérico las columnas correspondientes a ingresos:"
   ]
  },
  {
   "cell_type": "code",
   "execution_count": null,
   "metadata": {
    "id": "7-y7RuzuqJWB"
   },
   "outputs": [],
   "source": [
    "for columna in nombres_columnas_ingresos[5:]:\n",
    "    ingresos[columna] = pd.to_numeric(ingresos[columna],errors='coerce')"
   ]
  },
  {
   "cell_type": "code",
   "execution_count": 65,
   "metadata": {
    "colab": {
     "base_uri": "https://localhost:8080/"
    },
    "id": "N8lH5dY0qQpB",
    "outputId": "64aaf4da-4b1e-47b1-e7f8-fbbdbf841f85"
   },
   "outputs": [
    {
     "name": "stdout",
     "output_type": "stream",
     "text": [
      "folio_vivienda            0\n",
      "numero_hogar              0\n",
      "numero_habitante          0\n",
      "clave_fuente              0\n",
      "ingreso_1                 0\n",
      "ingreso_2             55094\n",
      "ingreso_3             55094\n",
      "ingreso_4             55094\n",
      "ingreso_5             55094\n",
      "ingreso_6             55094\n",
      "ingreso_trimestral        0\n",
      "dtype: int64\n"
     ]
    }
   ],
   "source": [
    "print(ingresos.isna().sum(axis=0)) "
   ]
  },
  {
   "cell_type": "markdown",
   "metadata": {
    "id": "p_H3mp8QqUgc"
   },
   "source": [
    "55094 registros de ingresos son valores NaNs. Dado que esta es una variable central, se reemplazan con 0´s."
   ]
  },
  {
   "cell_type": "code",
   "execution_count": 66,
   "metadata": {
    "colab": {
     "base_uri": "https://localhost:8080/"
    },
    "id": "QsARFHFerLMv",
    "outputId": "b5db09cb-00dd-4842-c4e5-33a66b346b9e"
   },
   "outputs": [
    {
     "name": "stdout",
     "output_type": "stream",
     "text": [
      "folio_vivienda        0\n",
      "numero_hogar          0\n",
      "numero_habitante      0\n",
      "clave_fuente          0\n",
      "ingreso_1             0\n",
      "ingreso_2             0\n",
      "ingreso_3             0\n",
      "ingreso_4             0\n",
      "ingreso_5             0\n",
      "ingreso_6             0\n",
      "ingreso_trimestral    0\n",
      "dtype: int64\n"
     ]
    }
   ],
   "source": [
    "ingresos_limpio = ingresos.fillna(0)\n",
    "print(ingresos_limpio.isna().sum(axis=0)) "
   ]
  },
  {
   "cell_type": "markdown",
   "metadata": {
    "id": "BeDC6Rje0kML"
   },
   "source": [
    "Se tienen dos tablas relacionadas, `poblacion` e `ingresos_limpio`. Una contiene las características sociodemográficas de los integrantes de vivienda y la otra incluye los últimos 6 ingresos mensuales que percibieron.\n",
    "\n",
    "Se utilizan las columnas `folio_vivienda` y `numero_habitante` para combinar ambos DataFrames con un `merge` en un DataFrame final para los datos recuperados del INEGI llamado `poblacion_completo`.\n"
   ]
  },
  {
   "cell_type": "code",
   "execution_count": 67,
   "metadata": {
    "id": "lnt-vYp-1Cev"
   },
   "outputs": [],
   "source": [
    "poblacion_laboral = poblacion.merge(ingresos_limpio, how='left', on=[\"folio_vivienda\",\"numero_habitante\"]).sort_index()"
   ]
  },
  {
   "cell_type": "markdown",
   "metadata": {
    "id": "khvFmmemJHNt"
   },
   "source": [
    "Se observa el DataFrame `poblacion_completo` para ver cuántos valores `null` hay."
   ]
  },
  {
   "cell_type": "code",
   "execution_count": 68,
   "metadata": {
    "colab": {
     "base_uri": "https://localhost:8080/"
    },
    "id": "0fkbFh_X1hrb",
    "outputId": "bcde22bc-bbc7-41dc-8ad4-d6a682858000"
   },
   "outputs": [
    {
     "data": {
      "text/plain": [
       "folio_vivienda                     0\n",
       "numero_habitante                   0\n",
       "parentesco                         0\n",
       "sexo                               0\n",
       "edad                               0\n",
       "discapacidad                       0\n",
       "pertenece_etnia                    0\n",
       "alfabetismo                        0\n",
       "asiste_a_escuela                   0\n",
       "grado_estudios                     0\n",
       "tipo_escuela                       0\n",
       "tiene_beca                         0\n",
       "tipo_beca                          0\n",
       "tiene_ayuda                        0\n",
       "tipo_ayuda                         0\n",
       "grado_maximo_estudios              0\n",
       "antecedentes_estudios              0\n",
       "aporta_seguridad_social(ss)        0\n",
       "anios_contribucion_ss              0\n",
       "meses_contribucion_ss              0\n",
       "apoyo_conseguir_trabajo            0\n",
       "apoyo_prestamo_mes_gastos          0\n",
       "horas_trabajo                      0\n",
       "no_recuerda_trabajar               0\n",
       "horas_estudio                      0\n",
       "no_recuerda_estudiar               0\n",
       "tamanio_localidad                  0\n",
       "nivel_socioeconomico               0\n",
       "numero_hogar                   41841\n",
       "clave_fuente                   41841\n",
       "ingreso_1                      41841\n",
       "ingreso_2                      41841\n",
       "ingreso_3                      41841\n",
       "ingreso_4                      41841\n",
       "ingreso_5                      41841\n",
       "ingreso_6                      41841\n",
       "ingreso_trimestral             41841\n",
       "dtype: int64"
      ]
     },
     "execution_count": 68,
     "metadata": {
      "tags": []
     },
     "output_type": "execute_result"
    }
   ],
   "source": [
    "poblacion_laboral.isnull().sum(axis=0) # 41270 de los integrantes de familia no tienen ingresos correspondientes"
   ]
  },
  {
   "cell_type": "markdown",
   "metadata": {
    "id": "v98qp0CJoVrD"
   },
   "source": [
    "Se eliminan a los individuos que no cuentan con ingresos correspondientes del DataFrame final y se reasignan indices.\n"
   ]
  },
  {
   "cell_type": "code",
   "execution_count": 70,
   "metadata": {
    "colab": {
     "base_uri": "https://localhost:8080/",
     "height": 439
    },
    "id": "YROxk0hKofxY",
    "outputId": "0533718d-e1a9-42bd-d5ab-2f0e886ce7af"
   },
   "outputs": [
    {
     "data": {
      "text/html": [
       "<div>\n",
       "<style scoped>\n",
       "    .dataframe tbody tr th:only-of-type {\n",
       "        vertical-align: middle;\n",
       "    }\n",
       "\n",
       "    .dataframe tbody tr th {\n",
       "        vertical-align: top;\n",
       "    }\n",
       "\n",
       "    .dataframe thead th {\n",
       "        text-align: right;\n",
       "    }\n",
       "</style>\n",
       "<table border=\"1\" class=\"dataframe\">\n",
       "  <thead>\n",
       "    <tr style=\"text-align: right;\">\n",
       "      <th></th>\n",
       "      <th>folio_vivienda</th>\n",
       "      <th>numero_habitante</th>\n",
       "      <th>parentesco</th>\n",
       "      <th>sexo</th>\n",
       "      <th>edad</th>\n",
       "      <th>discapacidad</th>\n",
       "      <th>pertenece_etnia</th>\n",
       "      <th>alfabetismo</th>\n",
       "      <th>asiste_a_escuela</th>\n",
       "      <th>grado_estudios</th>\n",
       "      <th>tipo_escuela</th>\n",
       "      <th>tiene_beca</th>\n",
       "      <th>tipo_beca</th>\n",
       "      <th>tiene_ayuda</th>\n",
       "      <th>tipo_ayuda</th>\n",
       "      <th>grado_maximo_estudios</th>\n",
       "      <th>antecedentes_estudios</th>\n",
       "      <th>aporta_seguridad_social(ss)</th>\n",
       "      <th>anios_contribucion_ss</th>\n",
       "      <th>meses_contribucion_ss</th>\n",
       "      <th>apoyo_conseguir_trabajo</th>\n",
       "      <th>apoyo_prestamo_mes_gastos</th>\n",
       "      <th>horas_trabajo</th>\n",
       "      <th>no_recuerda_trabajar</th>\n",
       "      <th>horas_estudio</th>\n",
       "      <th>no_recuerda_estudiar</th>\n",
       "      <th>tamanio_localidad</th>\n",
       "      <th>nivel_socioeconomico</th>\n",
       "      <th>numero_hogar</th>\n",
       "      <th>clave_fuente</th>\n",
       "      <th>ingreso_1</th>\n",
       "      <th>ingreso_2</th>\n",
       "      <th>ingreso_3</th>\n",
       "      <th>ingreso_4</th>\n",
       "      <th>ingreso_5</th>\n",
       "      <th>ingreso_6</th>\n",
       "      <th>ingreso_trimestral</th>\n",
       "    </tr>\n",
       "  </thead>\n",
       "  <tbody>\n",
       "    <tr>\n",
       "      <th>0</th>\n",
       "      <td>100013601</td>\n",
       "      <td>1</td>\n",
       "      <td>101</td>\n",
       "      <td>1</td>\n",
       "      <td>74</td>\n",
       "      <td>8.0</td>\n",
       "      <td>1.0</td>\n",
       "      <td>1.0</td>\n",
       "      <td>2.0</td>\n",
       "      <td>0.0</td>\n",
       "      <td>0.0</td>\n",
       "      <td>0.0</td>\n",
       "      <td>0.0</td>\n",
       "      <td>0.0</td>\n",
       "      <td>0.0</td>\n",
       "      <td>2.0</td>\n",
       "      <td>0.0</td>\n",
       "      <td>1.0</td>\n",
       "      <td>40.0</td>\n",
       "      <td>0.0</td>\n",
       "      <td>0.0</td>\n",
       "      <td>0.0</td>\n",
       "      <td>0.0</td>\n",
       "      <td>0.0</td>\n",
       "      <td>0.0</td>\n",
       "      <td>0.0</td>\n",
       "      <td>1</td>\n",
       "      <td>3</td>\n",
       "      <td>1.0</td>\n",
       "      <td>P032</td>\n",
       "      <td>3100.0</td>\n",
       "      <td>3100.0</td>\n",
       "      <td>3100.0</td>\n",
       "      <td>3100.0</td>\n",
       "      <td>3100.0</td>\n",
       "      <td>3100.0</td>\n",
       "      <td>9147.54</td>\n",
       "    </tr>\n",
       "    <tr>\n",
       "      <th>1</th>\n",
       "      <td>100013601</td>\n",
       "      <td>1</td>\n",
       "      <td>101</td>\n",
       "      <td>1</td>\n",
       "      <td>74</td>\n",
       "      <td>8.0</td>\n",
       "      <td>1.0</td>\n",
       "      <td>1.0</td>\n",
       "      <td>2.0</td>\n",
       "      <td>0.0</td>\n",
       "      <td>0.0</td>\n",
       "      <td>0.0</td>\n",
       "      <td>0.0</td>\n",
       "      <td>0.0</td>\n",
       "      <td>0.0</td>\n",
       "      <td>2.0</td>\n",
       "      <td>0.0</td>\n",
       "      <td>1.0</td>\n",
       "      <td>40.0</td>\n",
       "      <td>0.0</td>\n",
       "      <td>0.0</td>\n",
       "      <td>0.0</td>\n",
       "      <td>0.0</td>\n",
       "      <td>0.0</td>\n",
       "      <td>0.0</td>\n",
       "      <td>0.0</td>\n",
       "      <td>1</td>\n",
       "      <td>3</td>\n",
       "      <td>1.0</td>\n",
       "      <td>P001</td>\n",
       "      <td>10000.0</td>\n",
       "      <td>10000.0</td>\n",
       "      <td>10000.0</td>\n",
       "      <td>10000.0</td>\n",
       "      <td>10000.0</td>\n",
       "      <td>10000.0</td>\n",
       "      <td>29508.19</td>\n",
       "    </tr>\n",
       "    <tr>\n",
       "      <th>2</th>\n",
       "      <td>100013601</td>\n",
       "      <td>2</td>\n",
       "      <td>201</td>\n",
       "      <td>2</td>\n",
       "      <td>70</td>\n",
       "      <td>8.0</td>\n",
       "      <td>2.0</td>\n",
       "      <td>1.0</td>\n",
       "      <td>2.0</td>\n",
       "      <td>0.0</td>\n",
       "      <td>0.0</td>\n",
       "      <td>0.0</td>\n",
       "      <td>0.0</td>\n",
       "      <td>0.0</td>\n",
       "      <td>0.0</td>\n",
       "      <td>2.0</td>\n",
       "      <td>0.0</td>\n",
       "      <td>2.0</td>\n",
       "      <td>0.0</td>\n",
       "      <td>0.0</td>\n",
       "      <td>2.0</td>\n",
       "      <td>2.0</td>\n",
       "      <td>0.0</td>\n",
       "      <td>9.0</td>\n",
       "      <td>0.0</td>\n",
       "      <td>9.0</td>\n",
       "      <td>1</td>\n",
       "      <td>3</td>\n",
       "      <td>1.0</td>\n",
       "      <td>P044</td>\n",
       "      <td>0.0</td>\n",
       "      <td>1100.0</td>\n",
       "      <td>0.0</td>\n",
       "      <td>1100.0</td>\n",
       "      <td>0.0</td>\n",
       "      <td>1100.0</td>\n",
       "      <td>1622.95</td>\n",
       "    </tr>\n",
       "    <tr>\n",
       "      <th>3</th>\n",
       "      <td>100013601</td>\n",
       "      <td>3</td>\n",
       "      <td>301</td>\n",
       "      <td>1</td>\n",
       "      <td>38</td>\n",
       "      <td>8.0</td>\n",
       "      <td>1.0</td>\n",
       "      <td>1.0</td>\n",
       "      <td>2.0</td>\n",
       "      <td>0.0</td>\n",
       "      <td>0.0</td>\n",
       "      <td>0.0</td>\n",
       "      <td>0.0</td>\n",
       "      <td>0.0</td>\n",
       "      <td>0.0</td>\n",
       "      <td>4.0</td>\n",
       "      <td>0.0</td>\n",
       "      <td>2.0</td>\n",
       "      <td>0.0</td>\n",
       "      <td>0.0</td>\n",
       "      <td>0.0</td>\n",
       "      <td>0.0</td>\n",
       "      <td>0.0</td>\n",
       "      <td>0.0</td>\n",
       "      <td>0.0</td>\n",
       "      <td>0.0</td>\n",
       "      <td>1</td>\n",
       "      <td>3</td>\n",
       "      <td>1.0</td>\n",
       "      <td>P001</td>\n",
       "      <td>8000.0</td>\n",
       "      <td>8000.0</td>\n",
       "      <td>8000.0</td>\n",
       "      <td>8000.0</td>\n",
       "      <td>8000.0</td>\n",
       "      <td>8000.0</td>\n",
       "      <td>23606.55</td>\n",
       "    </tr>\n",
       "    <tr>\n",
       "      <th>4</th>\n",
       "      <td>100013602</td>\n",
       "      <td>1</td>\n",
       "      <td>101</td>\n",
       "      <td>1</td>\n",
       "      <td>48</td>\n",
       "      <td>8.0</td>\n",
       "      <td>2.0</td>\n",
       "      <td>1.0</td>\n",
       "      <td>2.0</td>\n",
       "      <td>0.0</td>\n",
       "      <td>0.0</td>\n",
       "      <td>0.0</td>\n",
       "      <td>0.0</td>\n",
       "      <td>0.0</td>\n",
       "      <td>0.0</td>\n",
       "      <td>9.0</td>\n",
       "      <td>5.0</td>\n",
       "      <td>1.0</td>\n",
       "      <td>15.0</td>\n",
       "      <td>0.0</td>\n",
       "      <td>3.0</td>\n",
       "      <td>2.0</td>\n",
       "      <td>48.0</td>\n",
       "      <td>0.0</td>\n",
       "      <td>0.0</td>\n",
       "      <td>9.0</td>\n",
       "      <td>1</td>\n",
       "      <td>3</td>\n",
       "      <td>1.0</td>\n",
       "      <td>P070</td>\n",
       "      <td>4563.0</td>\n",
       "      <td>4163.0</td>\n",
       "      <td>4563.0</td>\n",
       "      <td>4163.0</td>\n",
       "      <td>4563.0</td>\n",
       "      <td>4163.0</td>\n",
       "      <td>12874.42</td>\n",
       "    </tr>\n",
       "    <tr>\n",
       "      <th>...</th>\n",
       "      <td>...</td>\n",
       "      <td>...</td>\n",
       "      <td>...</td>\n",
       "      <td>...</td>\n",
       "      <td>...</td>\n",
       "      <td>...</td>\n",
       "      <td>...</td>\n",
       "      <td>...</td>\n",
       "      <td>...</td>\n",
       "      <td>...</td>\n",
       "      <td>...</td>\n",
       "      <td>...</td>\n",
       "      <td>...</td>\n",
       "      <td>...</td>\n",
       "      <td>...</td>\n",
       "      <td>...</td>\n",
       "      <td>...</td>\n",
       "      <td>...</td>\n",
       "      <td>...</td>\n",
       "      <td>...</td>\n",
       "      <td>...</td>\n",
       "      <td>...</td>\n",
       "      <td>...</td>\n",
       "      <td>...</td>\n",
       "      <td>...</td>\n",
       "      <td>...</td>\n",
       "      <td>...</td>\n",
       "      <td>...</td>\n",
       "      <td>...</td>\n",
       "      <td>...</td>\n",
       "      <td>...</td>\n",
       "      <td>...</td>\n",
       "      <td>...</td>\n",
       "      <td>...</td>\n",
       "      <td>...</td>\n",
       "      <td>...</td>\n",
       "      <td>...</td>\n",
       "    </tr>\n",
       "    <tr>\n",
       "      <th>361190</th>\n",
       "      <td>3260798905</td>\n",
       "      <td>1</td>\n",
       "      <td>101</td>\n",
       "      <td>1</td>\n",
       "      <td>59</td>\n",
       "      <td>8.0</td>\n",
       "      <td>2.0</td>\n",
       "      <td>1.0</td>\n",
       "      <td>2.0</td>\n",
       "      <td>0.0</td>\n",
       "      <td>0.0</td>\n",
       "      <td>0.0</td>\n",
       "      <td>0.0</td>\n",
       "      <td>0.0</td>\n",
       "      <td>0.0</td>\n",
       "      <td>2.0</td>\n",
       "      <td>0.0</td>\n",
       "      <td>2.0</td>\n",
       "      <td>0.0</td>\n",
       "      <td>0.0</td>\n",
       "      <td>3.0</td>\n",
       "      <td>3.0</td>\n",
       "      <td>45.0</td>\n",
       "      <td>0.0</td>\n",
       "      <td>0.0</td>\n",
       "      <td>9.0</td>\n",
       "      <td>4</td>\n",
       "      <td>2</td>\n",
       "      <td>1.0</td>\n",
       "      <td>P001</td>\n",
       "      <td>6800.0</td>\n",
       "      <td>8500.0</td>\n",
       "      <td>6800.0</td>\n",
       "      <td>6800.0</td>\n",
       "      <td>8500.0</td>\n",
       "      <td>6800.0</td>\n",
       "      <td>21619.56</td>\n",
       "    </tr>\n",
       "    <tr>\n",
       "      <th>361191</th>\n",
       "      <td>3260798906</td>\n",
       "      <td>1</td>\n",
       "      <td>101</td>\n",
       "      <td>1</td>\n",
       "      <td>88</td>\n",
       "      <td>1.0</td>\n",
       "      <td>2.0</td>\n",
       "      <td>1.0</td>\n",
       "      <td>2.0</td>\n",
       "      <td>0.0</td>\n",
       "      <td>0.0</td>\n",
       "      <td>0.0</td>\n",
       "      <td>0.0</td>\n",
       "      <td>0.0</td>\n",
       "      <td>0.0</td>\n",
       "      <td>2.0</td>\n",
       "      <td>0.0</td>\n",
       "      <td>2.0</td>\n",
       "      <td>0.0</td>\n",
       "      <td>0.0</td>\n",
       "      <td>1.0</td>\n",
       "      <td>1.0</td>\n",
       "      <td>0.0</td>\n",
       "      <td>9.0</td>\n",
       "      <td>0.0</td>\n",
       "      <td>9.0</td>\n",
       "      <td>4</td>\n",
       "      <td>2</td>\n",
       "      <td>1.0</td>\n",
       "      <td>P040</td>\n",
       "      <td>1000.0</td>\n",
       "      <td>1000.0</td>\n",
       "      <td>1000.0</td>\n",
       "      <td>1000.0</td>\n",
       "      <td>1000.0</td>\n",
       "      <td>1000.0</td>\n",
       "      <td>2934.78</td>\n",
       "    </tr>\n",
       "    <tr>\n",
       "      <th>361192</th>\n",
       "      <td>3260798906</td>\n",
       "      <td>1</td>\n",
       "      <td>101</td>\n",
       "      <td>1</td>\n",
       "      <td>88</td>\n",
       "      <td>1.0</td>\n",
       "      <td>2.0</td>\n",
       "      <td>1.0</td>\n",
       "      <td>2.0</td>\n",
       "      <td>0.0</td>\n",
       "      <td>0.0</td>\n",
       "      <td>0.0</td>\n",
       "      <td>0.0</td>\n",
       "      <td>0.0</td>\n",
       "      <td>0.0</td>\n",
       "      <td>2.0</td>\n",
       "      <td>0.0</td>\n",
       "      <td>2.0</td>\n",
       "      <td>0.0</td>\n",
       "      <td>0.0</td>\n",
       "      <td>1.0</td>\n",
       "      <td>1.0</td>\n",
       "      <td>0.0</td>\n",
       "      <td>9.0</td>\n",
       "      <td>0.0</td>\n",
       "      <td>9.0</td>\n",
       "      <td>4</td>\n",
       "      <td>2</td>\n",
       "      <td>1.0</td>\n",
       "      <td>P044</td>\n",
       "      <td>1160.0</td>\n",
       "      <td>0.0</td>\n",
       "      <td>1160.0</td>\n",
       "      <td>0.0</td>\n",
       "      <td>1160.0</td>\n",
       "      <td>0.0</td>\n",
       "      <td>1702.17</td>\n",
       "    </tr>\n",
       "    <tr>\n",
       "      <th>361193</th>\n",
       "      <td>3260798906</td>\n",
       "      <td>2</td>\n",
       "      <td>201</td>\n",
       "      <td>2</td>\n",
       "      <td>84</td>\n",
       "      <td>1.0</td>\n",
       "      <td>2.0</td>\n",
       "      <td>1.0</td>\n",
       "      <td>2.0</td>\n",
       "      <td>0.0</td>\n",
       "      <td>0.0</td>\n",
       "      <td>0.0</td>\n",
       "      <td>0.0</td>\n",
       "      <td>0.0</td>\n",
       "      <td>0.0</td>\n",
       "      <td>2.0</td>\n",
       "      <td>0.0</td>\n",
       "      <td>2.0</td>\n",
       "      <td>0.0</td>\n",
       "      <td>0.0</td>\n",
       "      <td>1.0</td>\n",
       "      <td>1.0</td>\n",
       "      <td>0.0</td>\n",
       "      <td>9.0</td>\n",
       "      <td>0.0</td>\n",
       "      <td>9.0</td>\n",
       "      <td>4</td>\n",
       "      <td>2</td>\n",
       "      <td>1.0</td>\n",
       "      <td>P044</td>\n",
       "      <td>1160.0</td>\n",
       "      <td>0.0</td>\n",
       "      <td>1160.0</td>\n",
       "      <td>0.0</td>\n",
       "      <td>1160.0</td>\n",
       "      <td>0.0</td>\n",
       "      <td>1702.17</td>\n",
       "    </tr>\n",
       "    <tr>\n",
       "      <th>361194</th>\n",
       "      <td>3260798906</td>\n",
       "      <td>2</td>\n",
       "      <td>201</td>\n",
       "      <td>2</td>\n",
       "      <td>84</td>\n",
       "      <td>1.0</td>\n",
       "      <td>2.0</td>\n",
       "      <td>1.0</td>\n",
       "      <td>2.0</td>\n",
       "      <td>0.0</td>\n",
       "      <td>0.0</td>\n",
       "      <td>0.0</td>\n",
       "      <td>0.0</td>\n",
       "      <td>0.0</td>\n",
       "      <td>0.0</td>\n",
       "      <td>2.0</td>\n",
       "      <td>0.0</td>\n",
       "      <td>2.0</td>\n",
       "      <td>0.0</td>\n",
       "      <td>0.0</td>\n",
       "      <td>1.0</td>\n",
       "      <td>1.0</td>\n",
       "      <td>0.0</td>\n",
       "      <td>9.0</td>\n",
       "      <td>0.0</td>\n",
       "      <td>9.0</td>\n",
       "      <td>4</td>\n",
       "      <td>2</td>\n",
       "      <td>1.0</td>\n",
       "      <td>P040</td>\n",
       "      <td>1000.0</td>\n",
       "      <td>1000.0</td>\n",
       "      <td>1000.0</td>\n",
       "      <td>1000.0</td>\n",
       "      <td>1000.0</td>\n",
       "      <td>1000.0</td>\n",
       "      <td>2934.78</td>\n",
       "    </tr>\n",
       "  </tbody>\n",
       "</table>\n",
       "<p>361195 rows × 37 columns</p>\n",
       "</div>"
      ],
      "text/plain": [
       "        folio_vivienda  numero_habitante  ...  ingreso_6  ingreso_trimestral\n",
       "0            100013601                 1  ...     3100.0             9147.54\n",
       "1            100013601                 1  ...    10000.0            29508.19\n",
       "2            100013601                 2  ...     1100.0             1622.95\n",
       "3            100013601                 3  ...     8000.0            23606.55\n",
       "4            100013602                 1  ...     4163.0            12874.42\n",
       "...                ...               ...  ...        ...                 ...\n",
       "361190      3260798905                 1  ...     6800.0            21619.56\n",
       "361191      3260798906                 1  ...     1000.0             2934.78\n",
       "361192      3260798906                 1  ...        0.0             1702.17\n",
       "361193      3260798906                 2  ...        0.0             1702.17\n",
       "361194      3260798906                 2  ...     1000.0             2934.78\n",
       "\n",
       "[361195 rows x 37 columns]"
      ]
     },
     "execution_count": 70,
     "metadata": {
      "tags": []
     },
     "output_type": "execute_result"
    }
   ],
   "source": [
    "poblacion_laboral = poblacion_laboral.dropna(axis=0,how='any')\n",
    "poblacion_laboral = poblacion_laboral.reset_index(drop=True)\n",
    "poblacion_laboral"
   ]
  },
  {
   "cell_type": "code",
   "execution_count": 72,
   "metadata": {
    "id": "VtvWq2eBaham"
   },
   "outputs": [],
   "source": [
    "indicadores_educacion.to_csv('/Dataset/indicadores_educacion.csv', index=True)\n",
    "indicadores_pobreza_y_educacion.to_csv('/Dataset/indicadores_pobreza_y_educacion.csv', index=True)\n",
    "concentrado.to_csv('/Dataset/concentrado.csv', index=False)\n",
    "poblacion.to_csv('/Dataset/poblacion.csv', index=False)\n",
    "poblacion_laboral.to_csv('/Dataset/poblacion_laboral.csv', index=False)"
   ]
  },
  {
   "cell_type": "markdown",
   "metadata": {
    "id": "kWGWqLlBBEoF"
   },
   "source": [
    "# Conclusiones"
   ]
  },
  {
   "cell_type": "markdown",
   "metadata": {
    "id": "zn38iiGW2E1Y"
   },
   "source": [
    "Ahora que el dataset se encuentra limpio, puede ser utilizado para el análisis que responderá nuestras preguntas de interés.\n"
   ]
  },
  {
   "cell_type": "markdown",
   "metadata": {
    "id": "JzXpxo8cbjzO"
   },
   "source": [
    "**Está conformado por 5 DataFrames:**\n",
    "- `indicadores_educacion`\n",
    "- `indicadores_pobreza_y_educacion`\n",
    "- `concentrado`\n",
    "- `poblacion`\n",
    "- `poblacion_laboral`"
   ]
  },
  {
   "cell_type": "markdown",
   "metadata": {
    "id": "JrY7k2CBEeDq"
   },
   "source": [
    "Se espera que la mayor parte de la información se obtenga del DataFrame `poblacion_laboral` aunque el resto de los DataFrames se usarán para complementar la información, y validar o negar hipótesis que se puedan construir.\n",
    "\n"
   ]
  },
  {
   "cell_type": "code",
   "execution_count": 29,
   "metadata": {
    "colab": {
     "base_uri": "https://localhost:8080/"
    },
    "id": "A5Sjupzl_9PX",
    "outputId": "5393daa7-87f6-4962-dc11-0ebeacea0e73"
   },
   "outputs": [
    {
     "data": {
      "text/plain": [
       "(361195, 37)"
      ]
     },
     "execution_count": 29,
     "metadata": {
      "tags": []
     },
     "output_type": "execute_result"
    }
   ],
   "source": [
    "poblacion_completo.shape"
   ]
  },
  {
   "cell_type": "markdown",
   "metadata": {
    "id": "HC1zHBoMAG1E"
   },
   "source": [
    "Cuenta finalmente con **361,195 registros** y **37 columnas**."
   ]
  },
  {
   "cell_type": "markdown",
   "metadata": {
    "id": "iibFZ7ne_5DS"
   },
   "source": [
    "Nuestra dimensión de datos es lo suficientemente grande para realizar inferencias sobre la relación entre el ingreso y educación, ya que en el dataframe final contamos con el máximo nivel de estudios de cada individuo junto con sus últimas 6 percepciones mensuales de ingresos."
   ]
  },
  {
   "cell_type": "markdown",
   "metadata": {
    "id": "AFqsa_ejBNUs"
   },
   "source": [
    "Un primer paso para el análisis es crear visualizaciones. Un boxplot de los ingresos segmentado por nivel de estudios nos permite observar si existen diferencias significativas en la media de los ingresos. De esta manera se podría determinar si los ingresos de los individuos con máximo nivel de estudios de primaria, difieren con los de secundaria, por ejemplo.\n",
    "\n",
    "Lo esperado sería que si se toma en cuenta únicamente ingresos salariales, sí se visualizaría una correlación positiva con los años de estudio. El caso interesante sería si se toma en cuenta cualquier tipo de ingreso. Este es un factor importante para los jóvenes que deciden invertir en educación formal o emprender en oficios en lugar de profesiones. \n",
    "\n",
    "Además del nivel de estudios, otras variables pueden tener un efecto en el ingreso percibido por los habitantes mexicanos. \n",
    "Se han realizado estudios que demuestran que el nivel socioeconómico y características raciales de un individuo influyen en el ingreso ofertado por los empleadores. Lo que demuestra la triste realidad en México (y en muchas otras partes del mundo), que la gente con un bajo nivel socioeconómico tiene deventaja en la competencia salarial.\n",
    "\n",
    "Se pueden realizar regresiones lineales múltiples utilizando estas variables para determinar si efectivamente estos factores pueden explicar la cantidad de ingreso (salario) que perciben los individuos mexicanos.\n",
    "\n",
    "Es intuitivo suponer que entre más años se haya preparado una persona, mejores oportunidades salariales tendría. Los mejor educados son en general más flexibles y están más motivados, se adaptan con mayor facilidad a las circunstancias que cambian, se benefician más de la experiencia profesional y del entrenamiento, actúan con mayor iniciativa en situaciones problemáticas, adquieren responsabilidades de supervisión más rápido y, a el corto plazo, son más productivos que los de menor educación, sobre todo cuando ésta no les ha proporcionando ninguna habilidad específica.\n",
    "\n",
    "Pero es una realidad que los tiempos están cambiando y la educación ya no únicamente se ofrece en formato de licenciaturas, maestrías y doctorados. La gente se está preparando con la facilidad de distintas plataformas de cursos en línea, por ejemplo. Este tiempo invertido a la eduación aún no se contabaliza en encuestas tradicionales como las realizadas por el INEGI.\n",
    "\n",
    "Sería de interés obtener datos sobre este tipo de educación en línea para complementar el análisis y determinar una mejor relación entre estas dos variables. "
   ]
  }
 ],
 "metadata": {
  "colab": {
   "collapsed_sections": [],
   "name": "analisis_estudios_y_economia.ipynb",
   "provenance": [],
   "toc_visible": true
  },
  "kernelspec": {
   "display_name": "Python 3",
   "language": "python",
   "name": "python3"
  },
  "language_info": {
   "codemirror_mode": {
    "name": "ipython",
    "version": 3
   },
   "file_extension": ".py",
   "mimetype": "text/x-python",
   "name": "python",
   "nbconvert_exporter": "python",
   "pygments_lexer": "ipython3",
   "version": "3.8.5"
  }
 },
 "nbformat": 4,
 "nbformat_minor": 1
}
